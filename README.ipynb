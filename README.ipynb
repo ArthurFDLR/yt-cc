{
 "cells": [
  {
   "cell_type": "markdown",
   "metadata": {},
   "source": [
    "# YoutubeCC (`yt-cc`) - A Youtube Closed Captions (`.json3`) parser"
   ]
  },
  {
   "cell_type": "markdown",
   "metadata": {},
   "source": [
    "`yt-cc` is a Python library that parses Youtube Closed Captions (`.json3`) files. It is a simple and easy-to-use library that can be used to query precise parts of the video transcript or iterate over the entire transcript."
   ]
  },
  {
   "cell_type": "code",
   "execution_count": 1,
   "metadata": {},
   "outputs": [],
   "source": [
    "%load_ext autoreload\n",
    "%autoreload 2"
   ]
  },
  {
   "cell_type": "code",
   "execution_count": 2,
   "metadata": {},
   "outputs": [],
   "source": [
    "from pathlib import Path\n",
    "\n",
    "from yt_dlp import YoutubeDL\n",
    "from yt_cc import YoutubeCC"
   ]
  },
  {
   "cell_type": "code",
   "execution_count": 3,
   "metadata": {},
   "outputs": [],
   "source": [
    "DATA_PATH = Path.cwd() / \".tmp\""
   ]
  },
  {
   "cell_type": "markdown",
   "metadata": {},
   "source": [
    "## Downloading the Closed Captions with `yt-dlp`\n",
    "\n",
    "To download the closed captions of a Youtube video, you can use the `yt-dlp` command-line tool. You can install `yt-dlp` using `pip`:\n",
    "\n",
    "```bash\n",
    "pip install yt-dlp\n",
    "```\n",
    "\n",
    "To download the closed captions of a Youtube video in the `.json3` format, you can use the following command:\n",
    "\n",
    "```bash\n",
    "yt-dlp --write-auto-sub --skip-download --sub-format json3 <video-url>\n",
    "```\n",
    "\n",
    "You can also download the closed captions with the `yt-dlp` Python API:"
   ]
  },
  {
   "cell_type": "code",
   "execution_count": 4,
   "metadata": {},
   "outputs": [
    {
     "name": "stdout",
     "output_type": "stream",
     "text": [
      "[youtube] Extracting URL: https://www.youtube.com/watch?v=oHWuv1Aqrzk\n",
      "[youtube] oHWuv1Aqrzk: Downloading webpage\n",
      "[youtube] oHWuv1Aqrzk: Downloading ios player API JSON\n",
      "[youtube] oHWuv1Aqrzk: Downloading android player API JSON\n"
     ]
    },
    {
     "name": "stderr",
     "output_type": "stream",
     "text": [
      "WARNING: [youtube] Skipping player responses from android clients (got player responses for video \"aQvGIIdgFDM\" instead of \"oHWuv1Aqrzk\")\n"
     ]
    },
    {
     "name": "stdout",
     "output_type": "stream",
     "text": [
      "[youtube] oHWuv1Aqrzk: Downloading m3u8 information\n",
      "[info] oHWuv1Aqrzk: Downloading subtitles: en\n",
      "[info] oHWuv1Aqrzk: Downloading 1 format(s): 248+251\n",
      "Deleting existing file /home/arthur/Documents/02.workspace/02.active/clips-analytics/yt-cc/.tmp/oHWuv1Aqrzk.en.json3\n",
      "[info] Writing video subtitles to: /home/arthur/Documents/02.workspace/02.active/clips-analytics/yt-cc/.tmp/oHWuv1Aqrzk.en.json3\n",
      "[download] Destination: /home/arthur/Documents/02.workspace/02.active/clips-analytics/yt-cc/.tmp/oHWuv1Aqrzk.en.json3\n",
      "[download] 100% of   71.66KiB in 00:00:00 at 1.28MiB/s\n"
     ]
    },
    {
     "data": {
      "text/plain": [
       "PosixPath('/home/arthur/Documents/02.workspace/02.active/clips-analytics/yt-cc/.tmp/oHWuv1Aqrzk.en.json3')"
      ]
     },
     "execution_count": 4,
     "metadata": {},
     "output_type": "execute_result"
    }
   ],
   "source": [
    "YoutubeDL(\n",
    "    params = dict(\n",
    "        paths=dict(home=str(DATA_PATH)),\n",
    "        skip_download=True,\n",
    "        outtmpl=\"%(id)s.%(ext)s\",\n",
    "        subtitlesformat=\"json3\",\n",
    "        writeautomaticsub=True,\n",
    "    )\n",
    ").download([\"https://www.youtube.com/watch?v=oHWuv1Aqrzk\"])\n",
    "\n",
    "yt_cc_file_path = next(DATA_PATH.glob(\"*.json3\"))\n",
    "yt_cc_file_path"
   ]
  },
  {
   "cell_type": "markdown",
   "metadata": {},
   "source": [
    "## Parse the Closed Captions with `yt-cc`"
   ]
  },
  {
   "cell_type": "code",
   "execution_count": 5,
   "metadata": {},
   "outputs": [
    {
     "data": {
      "text/html": [
       "\n",
       "        <h3>YoutubeCC</h3>\n",
       "        <ul>\n",
       "            <li>File: /home/arthur/Documents/02.workspace/02.active/clips-analytics/yt-cc/.tmp/oHWuv1Aqrzk.en.json3</li>\n",
       "            <li>lines: 202</li>\n",
       "            <li>Segments: 768</li>\n",
       "        </ul>\n",
       "        "
      ],
      "text/plain": [
       "YoutubeCC(file=/home/arthur/Documents/02.workspace/02.active/clips-analytics/yt-cc/.tmp/oHWuv1Aqrzk.en.json3, lines=202, segments=768)"
      ]
     },
     "execution_count": 5,
     "metadata": {},
     "output_type": "execute_result"
    }
   ],
   "source": [
    "youtube_caption = YoutubeCC(yt_cc_file_path)\n",
    "youtube_caption"
   ]
  },
  {
   "cell_type": "code",
   "execution_count": 6,
   "metadata": {},
   "outputs": [
    {
     "name": "stdout",
     "output_type": "stream",
     "text": [
      "LineCC(event_id=1.0, start_time_ms=0.0, duration_ms=218599.0, window_id=nan, window_style_id=1.0, window_position_id=1.0, append=nan, segments=[])\n",
      "LineCC(event_id=nan, start_time_ms=2820.0, duration_ms=5279.0, window_id=1.0, window_style_id=nan, window_position_id=nan, append=nan, segments=['is', ' there', ' cool', ' small', ' projects', ' like', ' uh'])\n",
      "LineCC(event_id=nan, start_time_ms=5510.0, duration_ms=2589.0, window_id=1.0, window_style_id=nan, window_position_id=nan, append=1.0, segments=['\\n'])\n",
      "LineCC(event_id=nan, start_time_ms=5520.0, duration_ms=6180.0, window_id=1.0, window_style_id=nan, window_position_id=nan, append=nan, segments=['archive', ' sanity', ' and', ' and', ' so', ' on', ' that', \" you're\"])\n",
      "LineCC(event_id=nan, start_time_ms=8089.0, duration_ms=3611.0, window_id=1.0, window_style_id=nan, window_position_id=nan, append=1.0, segments=['\\n'])\n",
      "LineCC(event_id=nan, start_time_ms=8099.0, duration_ms=5580.0, window_id=1.0, window_style_id=nan, window_position_id=nan, append=nan, segments=['thinking', ' about', ' the', ' the', ' the', ' the', ' world', ' the'])\n",
      "LineCC(event_id=nan, start_time_ms=11690.0, duration_ms=1989.0, window_id=1.0, window_style_id=nan, window_position_id=nan, append=1.0, segments=['\\n'])\n"
     ]
    }
   ],
   "source": [
    "\n",
    "for i, line_cc in enumerate(youtube_caption):\n",
    "    print(line_cc)\n",
    "    if i > 5:\n",
    "        break"
   ]
  },
  {
   "cell_type": "code",
   "execution_count": 7,
   "metadata": {},
   "outputs": [
    {
     "data": {
      "text/html": [
       "<div>\n",
       "<style scoped>\n",
       "    .dataframe tbody tr th:only-of-type {\n",
       "        vertical-align: middle;\n",
       "    }\n",
       "\n",
       "    .dataframe tbody tr th {\n",
       "        vertical-align: top;\n",
       "    }\n",
       "\n",
       "    .dataframe thead th {\n",
       "        text-align: right;\n",
       "    }\n",
       "</style>\n",
       "<table border=\"1\" class=\"dataframe\">\n",
       "  <thead>\n",
       "    <tr style=\"text-align: right;\">\n",
       "      <th></th>\n",
       "      <th>event_id</th>\n",
       "      <th>start_time_ms</th>\n",
       "      <th>duration_ms</th>\n",
       "      <th>window_id</th>\n",
       "      <th>window_style_id</th>\n",
       "      <th>window_position_id</th>\n",
       "      <th>append</th>\n",
       "    </tr>\n",
       "  </thead>\n",
       "  <tbody>\n",
       "    <tr>\n",
       "      <th>0</th>\n",
       "      <td>1.0</td>\n",
       "      <td>0</td>\n",
       "      <td>218599.0</td>\n",
       "      <td>NaN</td>\n",
       "      <td>1.0</td>\n",
       "      <td>1.0</td>\n",
       "      <td>NaN</td>\n",
       "    </tr>\n",
       "    <tr>\n",
       "      <th>1</th>\n",
       "      <td>NaN</td>\n",
       "      <td>2820</td>\n",
       "      <td>5279.0</td>\n",
       "      <td>1.0</td>\n",
       "      <td>NaN</td>\n",
       "      <td>NaN</td>\n",
       "      <td>NaN</td>\n",
       "    </tr>\n",
       "    <tr>\n",
       "      <th>2</th>\n",
       "      <td>NaN</td>\n",
       "      <td>5510</td>\n",
       "      <td>2589.0</td>\n",
       "      <td>1.0</td>\n",
       "      <td>NaN</td>\n",
       "      <td>NaN</td>\n",
       "      <td>1.0</td>\n",
       "    </tr>\n",
       "    <tr>\n",
       "      <th>3</th>\n",
       "      <td>NaN</td>\n",
       "      <td>5520</td>\n",
       "      <td>6180.0</td>\n",
       "      <td>1.0</td>\n",
       "      <td>NaN</td>\n",
       "      <td>NaN</td>\n",
       "      <td>NaN</td>\n",
       "    </tr>\n",
       "    <tr>\n",
       "      <th>4</th>\n",
       "      <td>NaN</td>\n",
       "      <td>8089</td>\n",
       "      <td>3611.0</td>\n",
       "      <td>1.0</td>\n",
       "      <td>NaN</td>\n",
       "      <td>NaN</td>\n",
       "      <td>1.0</td>\n",
       "    </tr>\n",
       "    <tr>\n",
       "      <th>...</th>\n",
       "      <td>...</td>\n",
       "      <td>...</td>\n",
       "      <td>...</td>\n",
       "      <td>...</td>\n",
       "      <td>...</td>\n",
       "      <td>...</td>\n",
       "      <td>...</td>\n",
       "    </tr>\n",
       "    <tr>\n",
       "      <th>197</th>\n",
       "      <td>NaN</td>\n",
       "      <td>212580</td>\n",
       "      <td>3900.0</td>\n",
       "      <td>1.0</td>\n",
       "      <td>NaN</td>\n",
       "      <td>NaN</td>\n",
       "      <td>NaN</td>\n",
       "    </tr>\n",
       "    <tr>\n",
       "      <th>198</th>\n",
       "      <td>NaN</td>\n",
       "      <td>214850</td>\n",
       "      <td>1630.0</td>\n",
       "      <td>1.0</td>\n",
       "      <td>NaN</td>\n",
       "      <td>NaN</td>\n",
       "      <td>1.0</td>\n",
       "    </tr>\n",
       "    <tr>\n",
       "      <th>199</th>\n",
       "      <td>NaN</td>\n",
       "      <td>214860</td>\n",
       "      <td>3739.0</td>\n",
       "      <td>1.0</td>\n",
       "      <td>NaN</td>\n",
       "      <td>NaN</td>\n",
       "      <td>NaN</td>\n",
       "    </tr>\n",
       "    <tr>\n",
       "      <th>200</th>\n",
       "      <td>NaN</td>\n",
       "      <td>216470</td>\n",
       "      <td>2129.0</td>\n",
       "      <td>1.0</td>\n",
       "      <td>NaN</td>\n",
       "      <td>NaN</td>\n",
       "      <td>1.0</td>\n",
       "    </tr>\n",
       "    <tr>\n",
       "      <th>201</th>\n",
       "      <td>NaN</td>\n",
       "      <td>216480</td>\n",
       "      <td>2119.0</td>\n",
       "      <td>1.0</td>\n",
       "      <td>NaN</td>\n",
       "      <td>NaN</td>\n",
       "      <td>NaN</td>\n",
       "    </tr>\n",
       "  </tbody>\n",
       "</table>\n",
       "<p>202 rows × 7 columns</p>\n",
       "</div>"
      ],
      "text/plain": [
       "     event_id  start_time_ms  duration_ms  window_id  window_style_id  \\\n",
       "0         1.0              0     218599.0        NaN              1.0   \n",
       "1         NaN           2820       5279.0        1.0              NaN   \n",
       "2         NaN           5510       2589.0        1.0              NaN   \n",
       "3         NaN           5520       6180.0        1.0              NaN   \n",
       "4         NaN           8089       3611.0        1.0              NaN   \n",
       "..        ...            ...          ...        ...              ...   \n",
       "197       NaN         212580       3900.0        1.0              NaN   \n",
       "198       NaN         214850       1630.0        1.0              NaN   \n",
       "199       NaN         214860       3739.0        1.0              NaN   \n",
       "200       NaN         216470       2129.0        1.0              NaN   \n",
       "201       NaN         216480       2119.0        1.0              NaN   \n",
       "\n",
       "     window_position_id  append  \n",
       "0                   1.0     NaN  \n",
       "1                   NaN     NaN  \n",
       "2                   NaN     1.0  \n",
       "3                   NaN     NaN  \n",
       "4                   NaN     1.0  \n",
       "..                  ...     ...  \n",
       "197                 NaN     NaN  \n",
       "198                 NaN     1.0  \n",
       "199                 NaN     NaN  \n",
       "200                 NaN     1.0  \n",
       "201                 NaN     NaN  \n",
       "\n",
       "[202 rows x 7 columns]"
      ]
     },
     "execution_count": 7,
     "metadata": {},
     "output_type": "execute_result"
    }
   ],
   "source": [
    "youtube_caption.lines"
   ]
  },
  {
   "cell_type": "code",
   "execution_count": 8,
   "metadata": {},
   "outputs": [
    {
     "data": {
      "text/html": [
       "<div>\n",
       "<style scoped>\n",
       "    .dataframe tbody tr th:only-of-type {\n",
       "        vertical-align: middle;\n",
       "    }\n",
       "\n",
       "    .dataframe tbody tr th {\n",
       "        vertical-align: top;\n",
       "    }\n",
       "\n",
       "    .dataframe thead th {\n",
       "        text-align: right;\n",
       "    }\n",
       "</style>\n",
       "<table border=\"1\" class=\"dataframe\">\n",
       "  <thead>\n",
       "    <tr style=\"text-align: right;\">\n",
       "      <th></th>\n",
       "      <th>text</th>\n",
       "      <th>asr_confidence</th>\n",
       "      <th>offset_ms</th>\n",
       "      <th>pen_id</th>\n",
       "      <th>start_time_ms</th>\n",
       "      <th>line_id</th>\n",
       "    </tr>\n",
       "  </thead>\n",
       "  <tbody>\n",
       "    <tr>\n",
       "      <th>0</th>\n",
       "      <td>is</td>\n",
       "      <td>248.0</td>\n",
       "      <td>NaN</td>\n",
       "      <td>None</td>\n",
       "      <td>2820</td>\n",
       "      <td>1</td>\n",
       "    </tr>\n",
       "    <tr>\n",
       "      <th>1</th>\n",
       "      <td>there</td>\n",
       "      <td>248.0</td>\n",
       "      <td>599.0</td>\n",
       "      <td>None</td>\n",
       "      <td>3419</td>\n",
       "      <td>1</td>\n",
       "    </tr>\n",
       "    <tr>\n",
       "      <th>2</th>\n",
       "      <td>cool</td>\n",
       "      <td>248.0</td>\n",
       "      <td>839.0</td>\n",
       "      <td>None</td>\n",
       "      <td>3659</td>\n",
       "      <td>1</td>\n",
       "    </tr>\n",
       "    <tr>\n",
       "      <th>3</th>\n",
       "      <td>small</td>\n",
       "      <td>248.0</td>\n",
       "      <td>1020.0</td>\n",
       "      <td>None</td>\n",
       "      <td>3840</td>\n",
       "      <td>1</td>\n",
       "    </tr>\n",
       "    <tr>\n",
       "      <th>4</th>\n",
       "      <td>projects</td>\n",
       "      <td>248.0</td>\n",
       "      <td>1380.0</td>\n",
       "      <td>None</td>\n",
       "      <td>4200</td>\n",
       "      <td>1</td>\n",
       "    </tr>\n",
       "    <tr>\n",
       "      <th>...</th>\n",
       "      <td>...</td>\n",
       "      <td>...</td>\n",
       "      <td>...</td>\n",
       "      <td>...</td>\n",
       "      <td>...</td>\n",
       "      <td>...</td>\n",
       "    </tr>\n",
       "    <tr>\n",
       "      <th>763</th>\n",
       "      <td>sounds</td>\n",
       "      <td>248.0</td>\n",
       "      <td>1260.0</td>\n",
       "      <td>None</td>\n",
       "      <td>216120</td>\n",
       "      <td>199</td>\n",
       "    </tr>\n",
       "    <tr>\n",
       "      <th>764</th>\n",
       "      <td>kind</td>\n",
       "      <td>240.0</td>\n",
       "      <td>1320.0</td>\n",
       "      <td>None</td>\n",
       "      <td>216180</td>\n",
       "      <td>199</td>\n",
       "    </tr>\n",
       "    <tr>\n",
       "      <th>765</th>\n",
       "      <td>of</td>\n",
       "      <td>248.0</td>\n",
       "      <td>1500.0</td>\n",
       "      <td>None</td>\n",
       "      <td>216360</td>\n",
       "      <td>199</td>\n",
       "    </tr>\n",
       "    <tr>\n",
       "      <th>766</th>\n",
       "      <td>\\n</td>\n",
       "      <td>NaN</td>\n",
       "      <td>NaN</td>\n",
       "      <td>None</td>\n",
       "      <td>216470</td>\n",
       "      <td>200</td>\n",
       "    </tr>\n",
       "    <tr>\n",
       "      <th>767</th>\n",
       "      <td>crazy</td>\n",
       "      <td>248.0</td>\n",
       "      <td>NaN</td>\n",
       "      <td>None</td>\n",
       "      <td>216480</td>\n",
       "      <td>201</td>\n",
       "    </tr>\n",
       "  </tbody>\n",
       "</table>\n",
       "<p>768 rows × 6 columns</p>\n",
       "</div>"
      ],
      "text/plain": [
       "          text  asr_confidence  offset_ms pen_id  start_time_ms  line_id\n",
       "0           is           248.0        NaN   None           2820        1\n",
       "1        there           248.0      599.0   None           3419        1\n",
       "2         cool           248.0      839.0   None           3659        1\n",
       "3        small           248.0     1020.0   None           3840        1\n",
       "4     projects           248.0     1380.0   None           4200        1\n",
       "..         ...             ...        ...    ...            ...      ...\n",
       "763     sounds           248.0     1260.0   None         216120      199\n",
       "764       kind           240.0     1320.0   None         216180      199\n",
       "765         of           248.0     1500.0   None         216360      199\n",
       "766         \\n             NaN        NaN   None         216470      200\n",
       "767      crazy           248.0        NaN   None         216480      201\n",
       "\n",
       "[768 rows x 6 columns]"
      ]
     },
     "execution_count": 8,
     "metadata": {},
     "output_type": "execute_result"
    }
   ],
   "source": [
    "youtube_caption.segments"
   ]
  },
  {
   "cell_type": "code",
   "execution_count": 9,
   "metadata": {},
   "outputs": [
    {
     "name": "stdout",
     "output_type": "stream",
     "text": [
      "is there cool small projects like uh\n",
      "archive sanity and and so on that you're\n",
      "thinking about the the the\n"
     ]
    }
   ],
   "source": [
    "print(youtube_caption.get_text(start_time_ms=0, end_time_ms=10000))"
   ]
  },
  {
   "cell_type": "code",
   "execution_count": null,
   "metadata": {},
   "outputs": [],
   "source": []
  }
 ],
 "metadata": {
  "kernelspec": {
   "display_name": "venv",
   "language": "python",
   "name": "python3"
  },
  "language_info": {
   "codemirror_mode": {
    "name": "ipython",
    "version": 3
   },
   "file_extension": ".py",
   "mimetype": "text/x-python",
   "name": "python",
   "nbconvert_exporter": "python",
   "pygments_lexer": "ipython3",
   "version": "3.10.9"
  }
 },
 "nbformat": 4,
 "nbformat_minor": 2
}
